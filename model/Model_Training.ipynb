{
 "cells": [
  {
   "cell_type": "markdown",
   "metadata": {
    "colab_type": "text",
    "id": "_Tq4bt1aq7wO"
   },
   "source": [
    "# Importing libraries"
   ]
  },
  {
   "cell_type": "code",
   "execution_count": 9,
   "metadata": {
    "colab": {},
    "colab_type": "code",
    "id": "WlEYQ3oLoer8"
   },
   "outputs": [],
   "source": [
    "## HOW WE TRAINED THE MODEL \n",
    "\n",
    "\n",
    "\n",
    "import os\n",
    "import joblib\n",
    "import numpy as np \n",
    "import pandas as pd\n",
    "import seaborn as sns \n",
    "import matplotlib.pyplot as plt\n",
    "import pickle\n",
    "import re\n",
    "\n",
    "\n",
    "import nltk.corpus\n",
    "from nltk.stem import WordNetLemmatizer\n",
    "from nltk import tokenize\n",
    "from nltk.tokenize import sent_tokenize,word_tokenize\n",
    "from nltk.corpus import stopwords\n",
    "from nltk.stem import WordNetLemmatizer\n",
    "from nltk import tokenize\n",
    "\n",
    "\n",
    "from sklearn.feature_extraction.text import TfidfVectorizer\n",
    "from sklearn.model_selection import train_test_split, cross_val_score\n",
    "from sklearn.utils import shuffle\n",
    "from sklearn.metrics import accuracy_score, confusion_matrix\n",
    "from sklearn.linear_model import LogisticRegression\n"
   ]
  },
  {
   "cell_type": "markdown",
   "metadata": {
    "colab_type": "text",
    "id": "jp4hIa8zkrKm"
   },
   "source": [
    "### If you dont have ntlk then install it!"
   ]
  },
  {
   "cell_type": "code",
   "execution_count": 10,
   "metadata": {
    "colab": {},
    "colab_type": "code",
    "id": "kogrNXO4ofbT"
   },
   "outputs": [],
   "source": [
    "# nltk.download(\"all\")"
   ]
  },
  {
   "cell_type": "markdown",
   "metadata": {
    "colab_type": "text",
    "id": "3SlPS13jk_AJ"
   },
   "source": [
    "# Importing data"
   ]
  },
  {
   "cell_type": "code",
   "execution_count": 11,
   "metadata": {
    "colab": {
     "base_uri": "https://localhost:8080/",
     "height": 265
    },
    "colab_type": "code",
    "id": "8z2tkXMnlCED",
    "outputId": "4a6bbf3c-4775-4063-9962-3d220e730fb1"
   },
   "outputs": [
    {
     "data": {
      "image/png": "[encoded data removed]",
      "text/plain": [
       "<Figure size 432x288 with 1 Axes>"
      ]
     },
     "metadata": {
      "needs_background": "light"
     },
     "output_type": "display_data"
    }
   ],
   "source": [
    "#LOADING DATA\n",
    "train = pd.read_csv(\"../public/input/train_E6oV3lV.csv\")\n",
    "test = pd.read_csv(\"../public/input/test_tweets_anuFYb8.csv\")\n",
    "\n",
    "\n",
    "#PLOTTING HISTOGRAM\n",
    "train['label'].hist()\n",
    "plt.show()\n",
    "\n",
    "\n",
    "#TURNING LABELS INTO CATEGORIES\n",
    "train['label'] = train['label'].astype('category')\n",
    "train.drop(columns=['id'], inplace=True)\n"
   ]
  },
  {
   "cell_type": "markdown",
   "metadata": {
    "colab_type": "text",
    "id": "YZSE_pmPlwY6"
   },
   "source": [
    "## Our dataset is imbalanced, so just to balance it we loaded many dataset and combined the datasets so that we get a balanced data set containing nearly equal number of both the classes"
   ]
  },
  {
   "cell_type": "code",
   "execution_count": 12,
   "metadata": {
    "colab": {
     "base_uri": "https://localhost:8080/",
     "height": 268
    },
    "colab_type": "code",
    "id": "djozz6nA3_6n",
    "outputId": "9b2024fd-8cd2-4b40-f421-1a37ec9ec7e0"
   },
   "outputs": [
    {
     "data": {
      "image/png": "[encoded data removed]",
      "text/plain": [
       "<Figure size 432x288 with 1 Axes>"
      ]
     },
     "metadata": {
      "needs_background": "light"
     },
     "output_type": "display_data"
    }
   ],
   "source": [
    "\n",
    "train_2 = pd.read_csv(\"../public/input/labeled_data.csv\")\n",
    "train_2['class'].hist()\n",
    "plt.show()\n",
    "\n",
    "#create new columns containing \n",
    "train_2['label'] = 1\n",
    "# this dataset contains three levels of hate speech level 0,1,2\n",
    "# We have added all hate tweets to our existing data so that we can get a balanced data\n",
    "\n"
   ]
  },
  {
   "cell_type": "code",
   "execution_count": 13,
   "metadata": {
    "colab": {},
    "colab_type": "code",
    "id": "tTBXZ3fm7qjG"
   },
   "outputs": [],
   "source": [
    "#Creating dataframe\n",
    "train_2 = pd.DataFrame(train_2[['label',\"tweet\"]])"
   ]
  },
  {
   "cell_type": "code",
   "execution_count": 14,
   "metadata": {
    "colab": {},
    "colab_type": "code",
    "id": "6tv8Dvq686U0"
   },
   "outputs": [],
   "source": [
    "#Concatinating both dataframes\n",
    "train = [train, train_2]\n",
    "result = pd.concat(train)\n"
   ]
  },
  {
   "cell_type": "code",
   "execution_count": 15,
   "metadata": {
    "colab": {
     "base_uri": "https://localhost:8080/",
     "height": 282
    },
    "colab_type": "code",
    "id": "8yzZz7Eo9HGc",
    "outputId": "f956770a-e71d-4433-d6a8-5d923e798051"
   },
   "outputs": [
    {
     "data": {
      "image/png": "[encoded data removed]",
      "text/plain": [
       "<Figure size 432x288 with 1 Axes>"
      ]
     },
     "metadata": {
      "needs_background": "light"
     },
     "output_type": "display_data"
    }
   ],
   "source": [
    "# shuffling data and reseting index\n",
    "result=shuffle(result)\n",
    "result = result.reset_index(drop=True)\n",
    "\n",
    "#Plotting histogram\n",
    "result['label'].hist()\n",
    "result.to_csv('../public/input/CombinedData.csv')"
   ]
  },
  {
   "cell_type": "markdown",
   "metadata": {
    "colab_type": "text",
    "id": "ePRvMfKZm9Lq"
   },
   "source": [
    "## Now we have nearly equal data of both the classes"
   ]
  },
  {
   "cell_type": "code",
   "execution_count": 16,
   "metadata": {
    "colab": {
     "base_uri": "https://localhost:8080/",
     "height": 170
    },
    "colab_type": "code",
    "id": "2gnEcasp9_OL",
    "outputId": "efac37ea-8dc6-41ef-fbaa-6dfc9718d4e0"
   },
   "outputs": [
    {
     "name": "stdout",
     "output_type": "stream",
     "text": [
      "<class 'pandas.core.frame.DataFrame'>\n",
      "RangeIndex: 56745 entries, 0 to 56744\n",
      "Data columns (total 2 columns):\n",
      "label    56745 non-null int64\n",
      "tweet    56745 non-null object\n",
      "dtypes: int64(1), object(1)\n",
      "memory usage: 886.8+ KB\n"
     ]
    }
   ],
   "source": [
    "#checking for null values\n",
    "result.info()"
   ]
  },
  {
   "cell_type": "code",
   "execution_count": null,
   "metadata": {
    "colab": {},
    "colab_type": "code",
    "id": "6iY26rvondHR"
   },
   "outputs": [],
   "source": []
  },
  {
   "cell_type": "markdown",
   "metadata": {
    "colab_type": "text",
    "id": "qg-LP1KVnd4k"
   },
   "source": [
    "# Preprocessing"
   ]
  },
  {
   "cell_type": "code",
   "execution_count": 17,
   "metadata": {
    "colab": {},
    "colab_type": "code",
    "id": "BCkcg5T_p8Bl"
   },
   "outputs": [],
   "source": [
    "# Storing stopwords of english language from nltk library\n",
    "sw = set(stopwords.words(\"english\"))\n",
    "\n",
    "# remove stop words\n",
    "def filter_words(word_list):\n",
    "    useful_words = [ w for w in word_list if w not in sw ]\n",
    "    return(useful_words)\n",
    "\n",
    "\n",
    "\n",
    "def preprocess_data(dataset):\n",
    "    data = dataset.copy()\n",
    "\n",
    "    #Removing punctuations, special characters and lemmatizing words to their base form\n",
    "    data['text_lem'] = [''.join([WordNetLemmatizer().lemmatize(re.sub('[^A-Za-z]',' ',text)) for text in lis]) for lis in data['tweet']]\n",
    "    \n",
    "    a=[]\n",
    "    for text in data['text_lem']:\n",
    "        word_list = word_tokenize(text)\n",
    "        text=filter_words(word_list)\n",
    "        a.append(text)  \n",
    "    \n",
    "    train_text = []\n",
    "    for i in a:\n",
    "        sent=''\n",
    "        for  j in i:\n",
    "            sent += str(j) + ' '\n",
    "        train_text.append(sent)\n",
    "\n",
    "    data['cleaned_tweets'] = train_text\n",
    "    \n",
    "    #Using TF-IDF vectorizer\n",
    "    vect = TfidfVectorizer(ngram_range = (1,3)).fit(data['cleaned_tweets'])\n",
    "    \n",
    "    #Transforming our data using the vector trained on training data.  \n",
    "    vectorized_tweets = vect.transform(data['cleaned_tweets'])\n",
    "    \n",
    "    return vectorized_tweets, vect\n",
    "\n",
    "\n",
    "    "
   ]
  },
  {
   "cell_type": "code",
   "execution_count": 18,
   "metadata": {
    "colab": {},
    "colab_type": "code",
    "id": "6GzX4LM7p-C9"
   },
   "outputs": [],
   "source": [
    "#storing preprocessed data in data_train and vector in vect\n",
    "data_train,vect  = preprocess_data(result)\n",
    "data_target = np.array(result[\"label\"])"
   ]
  },
  {
   "cell_type": "code",
   "execution_count": 19,
   "metadata": {
    "colab": {
     "base_uri": "https://localhost:8080/",
     "height": 34
    },
    "colab_type": "code",
    "id": "cw0gadLh-vjn",
    "outputId": "8d7121ba-16b9-43c2-fd10-74ed2cd5f4bc"
   },
   "outputs": [
    {
     "name": "stdout",
     "output_type": "stream",
     "text": [
      "(56745, 702295) (56745,)\n"
     ]
    }
   ],
   "source": [
    "\n",
    "print(data_train.shape, data_target.shape)"
   ]
  },
  {
   "cell_type": "markdown",
   "metadata": {
    "colab_type": "text",
    "id": "2tQ9ivJCo_3J"
   },
   "source": [
    "## Train Test Split"
   ]
  },
  {
   "cell_type": "code",
   "execution_count": 20,
   "metadata": {
    "colab": {
     "base_uri": "https://localhost:8080/",
     "height": 34
    },
    "colab_type": "code",
    "id": "mCDyHZLprgtp",
    "outputId": "bad0728a-017f-434d-88f0-8e9f7e35ab8c"
   },
   "outputs": [
    {
     "name": "stdout",
     "output_type": "stream",
     "text": [
      "(45396, 702295) (45396,) (11349, 702295) (11349,)\n"
     ]
    }
   ],
   "source": [
    "X_train, X_test, y_train, y_test = train_test_split(data_train, data_target, test_size=0.2, random_state=42)\n",
    "print(X_train.shape, y_train.shape, X_test.shape, y_test.shape)"
   ]
  },
  {
   "cell_type": "code",
   "execution_count": 21,
   "metadata": {
    "colab": {},
    "colab_type": "code",
    "id": "pNvZZXBKtcnW"
   },
   "outputs": [],
   "source": [
    "# Helping_Function to show Cross Val Scores\n",
    "def display_scores(scores):\n",
    "    print(\"Scores:\", scores)\n",
    "    print(\"Mean:\", scores.mean())\n",
    "    print(\"Standard deviation:\", scores.std())\n"
   ]
  },
  {
   "cell_type": "markdown",
   "metadata": {
    "colab_type": "text",
    "id": "Gsh8QOYvpHrj"
   },
   "source": [
    "## Training the MODEL"
   ]
  },
  {
   "cell_type": "code",
   "execution_count": 22,
   "metadata": {
    "colab": {},
    "colab_type": "code",
    "id": "AqJ1OL5npJx2"
   },
   "outputs": [],
   "source": [
    "# we are using logistic regression  \n",
    "lg_reg_clf = LogisticRegression(C=50, penalty='l2', solver='lbfgs')"
   ]
  },
  {
   "cell_type": "code",
   "execution_count": 23,
   "metadata": {
    "colab": {
     "base_uri": "https://localhost:8080/",
     "height": 969
    },
    "colab_type": "code",
    "id": "lRpveKUPj1Ra",
    "outputId": "e132cad7-6368-48e7-bcb3-c1c7d1a74a71"
   },
   "outputs": [
    {
     "name": "stderr",
     "output_type": "stream",
     "text": [
      "/home/aman/myenv/lib/python3.6/site-packages/sklearn/linear_model/logistic.py:947: ConvergenceWarning: lbfgs failed to converge. Increase the number of iterations.\n",
      "  \"of iterations.\", ConvergenceWarning)\n",
      "/home/aman/myenv/lib/python3.6/site-packages/sklearn/linear_model/logistic.py:947: ConvergenceWarning: lbfgs failed to converge. Increase the number of iterations.\n",
      "  \"of iterations.\", ConvergenceWarning)\n",
      "/home/aman/myenv/lib/python3.6/site-packages/sklearn/linear_model/logistic.py:947: ConvergenceWarning: lbfgs failed to converge. Increase the number of iterations.\n",
      "  \"of iterations.\", ConvergenceWarning)\n",
      "/home/aman/myenv/lib/python3.6/site-packages/sklearn/linear_model/logistic.py:947: ConvergenceWarning: lbfgs failed to converge. Increase the number of iterations.\n",
      "  \"of iterations.\", ConvergenceWarning)\n",
      "/home/aman/myenv/lib/python3.6/site-packages/sklearn/linear_model/logistic.py:947: ConvergenceWarning: lbfgs failed to converge. Increase the number of iterations.\n",
      "  \"of iterations.\", ConvergenceWarning)\n",
      "/home/aman/myenv/lib/python3.6/site-packages/sklearn/linear_model/logistic.py:947: ConvergenceWarning: lbfgs failed to converge. Increase the number of iterations.\n",
      "  \"of iterations.\", ConvergenceWarning)\n",
      "/home/aman/myenv/lib/python3.6/site-packages/sklearn/linear_model/logistic.py:947: ConvergenceWarning: lbfgs failed to converge. Increase the number of iterations.\n",
      "  \"of iterations.\", ConvergenceWarning)\n"
     ]
    }
   ],
   "source": [
    "#Calculating cross-val score\n",
    "score = cross_val_score(lg_reg_clf, X_train, y_train, cv=7, verbose=0)"
   ]
  },
  {
   "cell_type": "markdown",
   "metadata": {
    "colab_type": "text",
    "id": "rY6H8ljUpiqf"
   },
   "source": [
    "# CV score:"
   ]
  },
  {
   "cell_type": "code",
   "execution_count": 27,
   "metadata": {
    "colab": {
     "base_uri": "https://localhost:8080/",
     "height": 85
    },
    "colab_type": "code",
    "id": "HSdmashGkCMY",
    "outputId": "71e5a3dd-4cc1-4d26-889f-a516a738c589"
   },
   "outputs": [
    {
     "name": "stdout",
     "output_type": "stream",
     "text": [
      "Scores: [0.95898859 0.96037619 0.9614495  0.95173477 0.95944487 0.9616037\n",
      " 0.961752  ]\n",
      "Mean: 0.959335662236353\n",
      "Standard deviation: 0.0032610172400772547\n"
     ]
    }
   ],
   "source": [
    "#Display CV score:\n",
    "display_scores(score)"
   ]
  },
  {
   "cell_type": "markdown",
   "metadata": {
    "colab_type": "text",
    "id": "17r5NNQMppVz"
   },
   "source": [
    "## Now training model on our data and checking its accuracy on our test"
   ]
  },
  {
   "cell_type": "code",
   "execution_count": 28,
   "metadata": {
    "colab": {
     "base_uri": "https://localhost:8080/",
     "height": 238
    },
    "colab_type": "code",
    "id": "IyhzwOQI1Yyb",
    "outputId": "ddb8e012-f708-4452-c55d-3c41052d8495"
   },
   "outputs": [
    {
     "name": "stderr",
     "output_type": "stream",
     "text": [
      "/home/aman/myenv/lib/python3.6/site-packages/sklearn/linear_model/logistic.py:947: ConvergenceWarning: lbfgs failed to converge. Increase the number of iterations.\n",
      "  \"of iterations.\", ConvergenceWarning)\n"
     ]
    }
   ],
   "source": [
    "model = lg_reg_clf.fit(X_train, y_train)"
   ]
  },
  {
   "cell_type": "markdown",
   "metadata": {
    "colab_type": "text",
    "id": "LlsID8Q4pyvO"
   },
   "source": [
    "# Accuracy and confusion matrix:"
   ]
  },
  {
   "cell_type": "code",
   "execution_count": 29,
   "metadata": {
    "colab": {
     "base_uri": "https://localhost:8080/",
     "height": 282
    },
    "colab_type": "code",
    "id": "byPTaxIH1jlJ",
    "outputId": "d5da8fe3-e0dd-4a24-ca1d-28d6fd1748cb"
   },
   "outputs": [
    {
     "name": "stdout",
     "output_type": "stream",
     "text": [
      "Accuracy   :\t 0.9632566745968808\n"
     ]
    },
    {
     "data": {
      "image/png": "[encoded data removed]",
      "text/plain": [
       "<Figure size 432x288 with 2 Axes>"
      ]
     },
     "metadata": {
      "needs_background": "light"
     },
     "output_type": "display_data"
    }
   ],
   "source": [
    "print(\"Accuracy   :\\t\",lg_reg_clf.score(X_test,y_test))\n",
    "sns.heatmap(confusion_matrix(lg_reg_clf.predict(X_test), y_test),annot=True)\n",
    "plt.show()"
   ]
  },
  {
   "cell_type": "code",
   "execution_count": null,
   "metadata": {
    "colab": {},
    "colab_type": "code",
    "id": "zghhdALHfpiQ"
   },
   "outputs": [],
   "source": [
    "\n"
   ]
  },
  {
   "cell_type": "markdown",
   "metadata": {
    "colab_type": "text",
    "id": "zEVtwVuhqJQt"
   },
   "source": [
    "# Saving model and vector "
   ]
  },
  {
   "cell_type": "code",
   "execution_count": 24,
   "metadata": {
    "colab": {},
    "colab_type": "code",
    "id": "E7E7EG4CfpxQ"
   },
   "outputs": [],
   "source": [
    "with open('model','wb') as f:\n",
    "    pickle.dump(model,f)\n",
    "    \n",
    "with open('vector','wb') as f:\n",
    "    pickle.dump(vect,f)\n",
    "    "
   ]
  },
  {
   "cell_type": "code",
   "execution_count": null,
   "metadata": {
    "colab": {},
    "colab_type": "code",
    "id": "PAEm6IHxfp5P"
   },
   "outputs": [],
   "source": []
  },
  {
   "cell_type": "code",
   "execution_count": null,
   "metadata": {
    "colab": {},
    "colab_type": "code",
    "id": "Naa4g308fqDN"
   },
   "outputs": [],
   "source": []
  }
 ],
 "metadata": {
  "accelerator": "TPU",
  "colab": {
   "collapsed_sections": [],
   "name": "HSD",
   "provenance": []
  },
  "kernelspec": {
   "display_name": "Python 3",
   "language": "python",
   "name": "python3"
  },
  "language_info": {
   "codemirror_mode": {
    "name": "ipython",
    "version": 3
   },
   "file_extension": ".py",
   "mimetype": "text/x-python",
   "name": "python",
   "nbconvert_exporter": "python",
   "pygments_lexer": "ipython3",
   "version": "3.6.8"
  }
 },
 "nbformat": 4,
 "nbformat_minor": 4
}

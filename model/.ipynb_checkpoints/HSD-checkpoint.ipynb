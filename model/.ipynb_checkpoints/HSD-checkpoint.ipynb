{
  "nbformat": 4,
  "nbformat_minor": 0,
  "metadata": {
    "colab": {
      "name": "HSD",
      "provenance": [],
      "collapsed_sections": []
    },
    "kernelspec": {
      "name": "python3",
      "display_name": "Python 3"
    },
    "accelerator": "TPU"
  },
  "cells": [
    {
      "cell_type": "markdown",
      "metadata": {
        "id": "_Tq4bt1aq7wO",
        "colab_type": "text"
      },
      "source": [
        "# Importing libraries"
      ]
    },
    {
      "cell_type": "code",
      "metadata": {
        "id": "WlEYQ3oLoer8",
        "colab_type": "code",
        "colab": {}
      },
      "source": [
        "## HOW WE TRAINED THE MODEL \n",
        "\n",
        "\n",
        "\n",
        "import os\n",
        "import joblib\n",
        "import numpy as np \n",
        "import pandas as pd\n",
        "import seaborn as sns \n",
        "import matplotlib.pyplot as plt\n",
        "import pickle\n",
        "import re\n",
        "\n",
        "\n",
        "import nltk.corpus\n",
        "from nltk.stem import WordNetLemmatizer\n",
        "from nltk import tokenize\n",
        "from nltk.tokenize import sent_tokenize,word_tokenize\n",
        "from nltk.corpus import stopwords\n",
        "from nltk.stem import WordNetLemmatizer\n",
        "from nltk import tokenize\n",
        "\n",
        "\n",
        "from sklearn.feature_extraction.text import TfidfVectorizer\n",
        "from sklearn.model_selection import train_test_split, cross_val_score\n",
        "from sklearn.utils import shuffle\n",
        "from sklearn.metrics import accuracy_score, confusion_matrix\n",
        "from sklearn.linear_model import LogisticRegression\n"
      ],
      "execution_count": 0,
      "outputs": []
    },
    {
      "cell_type": "markdown",
      "metadata": {
        "id": "jp4hIa8zkrKm",
        "colab_type": "text"
      },
      "source": [
        "### If you dont have ntlk then install it!"
      ]
    },
    {
      "cell_type": "code",
      "metadata": {
        "id": "kogrNXO4ofbT",
        "colab_type": "code",
        "colab": {}
      },
      "source": [
        "# nltk.download(\"all\")"
      ],
      "execution_count": 0,
      "outputs": []
    },
    {
      "cell_type": "markdown",
      "metadata": {
        "id": "3SlPS13jk_AJ",
        "colab_type": "text"
      },
      "source": [
        "# Importing data"
      ]
    },
    {
      "cell_type": "code",
      "metadata": {
        "id": "8z2tkXMnlCED",
        "colab_type": "code",
        "colab": {
          "base_uri": "https://localhost:8080/",
          "height": 265
        },
        "outputId": "4a6bbf3c-4775-4063-9962-3d220e730fb1"
      },
      "source": [
        "#LOADING DATA\n",
        "train = pd.read_csv(\"/content/train_E6oV3lV.csv\")\n",
        "test = pd.read_csv(\"/content/test_tweets_anuFYb8.csv\")\n",
        "\n",
        "\n",
        "#PLOTTING HISTOGRAM\n",
        "train['label'].hist()\n",
        "plt.show()\n",
        "\n",
        "\n",
        "#TURNING LABELS INTO CATEGORIES\n",
        "train['label'] = train['label'].astype('category')\n",
        "train.drop(columns=['id'], inplace=True)\n"
      ],
      "execution_count": 148,
      "outputs": [
        {
          "output_type": "display_data",
          "data": {
            "image/png": "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\n",
            "text/plain": [
              "<Figure size 432x288 with 1 Axes>"
            ]
          },
          "metadata": {
            "tags": [],
            "needs_background": "light"
          }
        }
      ]
    },
    {
      "cell_type": "markdown",
      "metadata": {
        "id": "YZSE_pmPlwY6",
        "colab_type": "text"
      },
      "source": [
        "## Our dataset is imbalanced, so just to balance it we loaded many dataset and combined the datasets so that we get a balanced data set containing nearly equal number of both the classes"
      ]
    },
    {
      "cell_type": "code",
      "metadata": {
        "id": "djozz6nA3_6n",
        "colab_type": "code",
        "outputId": "9b2024fd-8cd2-4b40-f421-1a37ec9ec7e0",
        "colab": {
          "base_uri": "https://localhost:8080/",
          "height": 268
        }
      },
      "source": [
        "\n",
        "train_2 = pd.read_csv(\"/content/labeled_data.csv\")\n",
        "train_2['class'].hist()\n",
        "plt.show()\n",
        "\n",
        "#create new columns containing \n",
        "train_2['label'] = 1\n",
        "# this dataset contains three levels of hate speech level 0,1,2\n",
        "# We have added all hate tweets to our existing data so that we can get a balanced data\n",
        "\n"
      ],
      "execution_count": 149,
      "outputs": [
        {
          "output_type": "display_data",
          "data": {
            "image/png": "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\n",
            "text/plain": [
              "<Figure size 432x288 with 1 Axes>"
            ]
          },
          "metadata": {
            "tags": [],
            "needs_background": "light"
          }
        }
      ]
    },
    {
      "cell_type": "code",
      "metadata": {
        "id": "tTBXZ3fm7qjG",
        "colab_type": "code",
        "colab": {}
      },
      "source": [
        "#Creating dataframe\n",
        "train_2 = pd.DataFrame(train_2[['label',\"tweet\"]])"
      ],
      "execution_count": 0,
      "outputs": []
    },
    {
      "cell_type": "code",
      "metadata": {
        "id": "6tv8Dvq686U0",
        "colab_type": "code",
        "colab": {}
      },
      "source": [
        "#Concatinating both dataframes\n",
        "train = [train, train_2]\n",
        "result = pd.concat(train)\n"
      ],
      "execution_count": 0,
      "outputs": []
    },
    {
      "cell_type": "code",
      "metadata": {
        "id": "8yzZz7Eo9HGc",
        "colab_type": "code",
        "colab": {
          "base_uri": "https://localhost:8080/",
          "height": 282
        },
        "outputId": "f956770a-e71d-4433-d6a8-5d923e798051"
      },
      "source": [
        "# shuffling data and reseting index\n",
        "result=shuffle(result)\n",
        "result = result.reset_index(drop=True)\n",
        "\n",
        "#Plotting histogram\n",
        "result['label'].hist()"
      ],
      "execution_count": 152,
      "outputs": [
        {
          "output_type": "execute_result",
          "data": {
            "text/plain": [
              "<matplotlib.axes._subplots.AxesSubplot at 0x7f9dc661f6d8>"
            ]
          },
          "metadata": {
            "tags": []
          },
          "execution_count": 152
        },
        {
          "output_type": "display_data",
          "data": {
            "image/png": "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\n",
            "text/plain": [
              "<Figure size 432x288 with 1 Axes>"
            ]
          },
          "metadata": {
            "tags": [],
            "needs_background": "light"
          }
        }
      ]
    },
    {
      "cell_type": "markdown",
      "metadata": {
        "id": "ePRvMfKZm9Lq",
        "colab_type": "text"
      },
      "source": [
        "## Now we have nearly equal data of both the classes"
      ]
    },
    {
      "cell_type": "code",
      "metadata": {
        "id": "2gnEcasp9_OL",
        "colab_type": "code",
        "colab": {
          "base_uri": "https://localhost:8080/",
          "height": 170
        },
        "outputId": "efac37ea-8dc6-41ef-fbaa-6dfc9718d4e0"
      },
      "source": [
        "#checking for null values\n",
        "result.info()"
      ],
      "execution_count": 153,
      "outputs": [
        {
          "output_type": "stream",
          "text": [
            "<class 'pandas.core.frame.DataFrame'>\n",
            "RangeIndex: 56745 entries, 0 to 56744\n",
            "Data columns (total 2 columns):\n",
            " #   Column  Non-Null Count  Dtype \n",
            "---  ------  --------------  ----- \n",
            " 0   label   56745 non-null  int64 \n",
            " 1   tweet   56745 non-null  object\n",
            "dtypes: int64(1), object(1)\n",
            "memory usage: 886.8+ KB\n"
          ],
          "name": "stdout"
        }
      ]
    },
    {
      "cell_type": "code",
      "metadata": {
        "id": "6iY26rvondHR",
        "colab_type": "code",
        "colab": {}
      },
      "source": [
        ""
      ],
      "execution_count": 0,
      "outputs": []
    },
    {
      "cell_type": "markdown",
      "metadata": {
        "id": "qg-LP1KVnd4k",
        "colab_type": "text"
      },
      "source": [
        "# Preprocessing"
      ]
    },
    {
      "cell_type": "code",
      "metadata": {
        "id": "BCkcg5T_p8Bl",
        "colab_type": "code",
        "colab": {}
      },
      "source": [
        "# Storing stopwords of english language from nltk library\n",
        "sw = set(stopwords.words(\"english\"))\n",
        "\n",
        "# remove stop words\n",
        "def filter_words(word_list):\n",
        "    useful_words = [ w for w in word_list if w not in sw ]\n",
        "    return(useful_words)\n",
        "\n",
        "\n",
        "\n",
        "def preprocess_data(dataset):\n",
        "    data = dataset.copy()\n",
        "\n",
        "    #Removing punctuations, special characters and lemmatizing words to their base form\n",
        "    data['text_lem'] = [''.join([WordNetLemmatizer().lemmatize(re.sub('[^A-Za-z]',' ',text)) for text in lis]) for lis in data['tweet']]\n",
        "    \n",
        "    a=[]\n",
        "    for text in data['text_lem']:\n",
        "        word_list = word_tokenize(text)\n",
        "        text=filter_words(word_list)\n",
        "        a.append(text)  \n",
        "    \n",
        "    train_text = []\n",
        "    for i in a:\n",
        "        sent=''\n",
        "        for  j in i:\n",
        "            sent += str(j) + ' '\n",
        "        train_text.append(sent)\n",
        "\n",
        "    data['cleaned_tweets'] = train_text\n",
        "    \n",
        "    #Using TF-IDF vectorizer\n",
        "    vect = TfidfVectorizer(ngram_range = (1,3)).fit(data['cleaned_tweets'])\n",
        "    \n",
        "    #Transforming our data using the vector trained on training data.  \n",
        "    vectorized_tweets = vect.transform(data['cleaned_tweets'])\n",
        "    \n",
        "    return vectorized_tweets, vect\n",
        "\n",
        "\n",
        "    "
      ],
      "execution_count": 0,
      "outputs": []
    },
    {
      "cell_type": "code",
      "metadata": {
        "id": "6GzX4LM7p-C9",
        "colab_type": "code",
        "colab": {}
      },
      "source": [
        "#storing preprocessed data in data_train and vector in vect\n",
        "data_train,vect  = preprocess_data(result)\n",
        "data_target = np.array(result[\"label\"])"
      ],
      "execution_count": 0,
      "outputs": []
    },
    {
      "cell_type": "code",
      "metadata": {
        "id": "cw0gadLh-vjn",
        "colab_type": "code",
        "outputId": "8d7121ba-16b9-43c2-fd10-74ed2cd5f4bc",
        "colab": {
          "base_uri": "https://localhost:8080/",
          "height": 34
        }
      },
      "source": [
        "\n",
        "print(data_train.shape, data_target.shape)"
      ],
      "execution_count": 156,
      "outputs": [
        {
          "output_type": "stream",
          "text": [
            "(56745, 702295) (56745,)\n"
          ],
          "name": "stdout"
        }
      ]
    },
    {
      "cell_type": "markdown",
      "metadata": {
        "id": "2tQ9ivJCo_3J",
        "colab_type": "text"
      },
      "source": [
        "## Train Test Split"
      ]
    },
    {
      "cell_type": "code",
      "metadata": {
        "id": "mCDyHZLprgtp",
        "colab_type": "code",
        "outputId": "bad0728a-017f-434d-88f0-8e9f7e35ab8c",
        "colab": {
          "base_uri": "https://localhost:8080/",
          "height": 34
        }
      },
      "source": [
        "X_train, X_test, y_train, y_test = train_test_split(data_train, data_target, test_size=0.2, random_state=42)\n",
        "print(X_train.shape, y_train.shape, X_test.shape, y_test.shape)"
      ],
      "execution_count": 157,
      "outputs": [
        {
          "output_type": "stream",
          "text": [
            "(45396, 702295) (45396,) (11349, 702295) (11349,)\n"
          ],
          "name": "stdout"
        }
      ]
    },
    {
      "cell_type": "code",
      "metadata": {
        "id": "pNvZZXBKtcnW",
        "colab_type": "code",
        "colab": {}
      },
      "source": [
        "# Helping_Function to show Cross Val Scores\n",
        "def display_scores(scores):\n",
        "    print(\"Scores:\", scores)\n",
        "    print(\"Mean:\", scores.mean())\n",
        "    print(\"Standard deviation:\", scores.std())\n"
      ],
      "execution_count": 0,
      "outputs": []
    },
    {
      "cell_type": "markdown",
      "metadata": {
        "id": "Gsh8QOYvpHrj",
        "colab_type": "text"
      },
      "source": [
        "## Training the MODEL"
      ]
    },
    {
      "cell_type": "code",
      "metadata": {
        "id": "AqJ1OL5npJx2",
        "colab_type": "code",
        "colab": {}
      },
      "source": [
        "# we are using logistic regression  \n",
        "lg_reg_clf = LogisticRegression(C=50, penalty='l2', solver='lbfgs')"
      ],
      "execution_count": 0,
      "outputs": []
    },
    {
      "cell_type": "code",
      "metadata": {
        "id": "lRpveKUPj1Ra",
        "colab_type": "code",
        "colab": {
          "base_uri": "https://localhost:8080/",
          "height": 969
        },
        "outputId": "e132cad7-6368-48e7-bcb3-c1c7d1a74a71"
      },
      "source": [
        "#Calculating cross-val score\n",
        "score = cross_val_score(lg_reg_clf, X_train, y_train, cv=7)"
      ],
      "execution_count": 160,
      "outputs": [
        {
          "output_type": "stream",
          "text": [
            "/usr/local/lib/python3.6/dist-packages/sklearn/linear_model/_logistic.py:940: ConvergenceWarning: lbfgs failed to converge (status=1):\n",
            "STOP: TOTAL NO. of ITERATIONS REACHED LIMIT.\n",
            "\n",
            "Increase the number of iterations (max_iter) or scale the data as shown in:\n",
            "    https://scikit-learn.org/stable/modules/preprocessing.html\n",
            "Please also refer to the documentation for alternative solver options:\n",
            "    https://scikit-learn.org/stable/modules/linear_model.html#logistic-regression\n",
            "  extra_warning_msg=_LOGISTIC_SOLVER_CONVERGENCE_MSG)\n",
            "/usr/local/lib/python3.6/dist-packages/sklearn/linear_model/_logistic.py:940: ConvergenceWarning: lbfgs failed to converge (status=1):\n",
            "STOP: TOTAL NO. of ITERATIONS REACHED LIMIT.\n",
            "\n",
            "Increase the number of iterations (max_iter) or scale the data as shown in:\n",
            "    https://scikit-learn.org/stable/modules/preprocessing.html\n",
            "Please also refer to the documentation for alternative solver options:\n",
            "    https://scikit-learn.org/stable/modules/linear_model.html#logistic-regression\n",
            "  extra_warning_msg=_LOGISTIC_SOLVER_CONVERGENCE_MSG)\n",
            "/usr/local/lib/python3.6/dist-packages/sklearn/linear_model/_logistic.py:940: ConvergenceWarning: lbfgs failed to converge (status=1):\n",
            "STOP: TOTAL NO. of ITERATIONS REACHED LIMIT.\n",
            "\n",
            "Increase the number of iterations (max_iter) or scale the data as shown in:\n",
            "    https://scikit-learn.org/stable/modules/preprocessing.html\n",
            "Please also refer to the documentation for alternative solver options:\n",
            "    https://scikit-learn.org/stable/modules/linear_model.html#logistic-regression\n",
            "  extra_warning_msg=_LOGISTIC_SOLVER_CONVERGENCE_MSG)\n",
            "/usr/local/lib/python3.6/dist-packages/sklearn/linear_model/_logistic.py:940: ConvergenceWarning: lbfgs failed to converge (status=1):\n",
            "STOP: TOTAL NO. of ITERATIONS REACHED LIMIT.\n",
            "\n",
            "Increase the number of iterations (max_iter) or scale the data as shown in:\n",
            "    https://scikit-learn.org/stable/modules/preprocessing.html\n",
            "Please also refer to the documentation for alternative solver options:\n",
            "    https://scikit-learn.org/stable/modules/linear_model.html#logistic-regression\n",
            "  extra_warning_msg=_LOGISTIC_SOLVER_CONVERGENCE_MSG)\n",
            "/usr/local/lib/python3.6/dist-packages/sklearn/linear_model/_logistic.py:940: ConvergenceWarning: lbfgs failed to converge (status=1):\n",
            "STOP: TOTAL NO. of ITERATIONS REACHED LIMIT.\n",
            "\n",
            "Increase the number of iterations (max_iter) or scale the data as shown in:\n",
            "    https://scikit-learn.org/stable/modules/preprocessing.html\n",
            "Please also refer to the documentation for alternative solver options:\n",
            "    https://scikit-learn.org/stable/modules/linear_model.html#logistic-regression\n",
            "  extra_warning_msg=_LOGISTIC_SOLVER_CONVERGENCE_MSG)\n",
            "/usr/local/lib/python3.6/dist-packages/sklearn/linear_model/_logistic.py:940: ConvergenceWarning: lbfgs failed to converge (status=1):\n",
            "STOP: TOTAL NO. of ITERATIONS REACHED LIMIT.\n",
            "\n",
            "Increase the number of iterations (max_iter) or scale the data as shown in:\n",
            "    https://scikit-learn.org/stable/modules/preprocessing.html\n",
            "Please also refer to the documentation for alternative solver options:\n",
            "    https://scikit-learn.org/stable/modules/linear_model.html#logistic-regression\n",
            "  extra_warning_msg=_LOGISTIC_SOLVER_CONVERGENCE_MSG)\n",
            "/usr/local/lib/python3.6/dist-packages/sklearn/linear_model/_logistic.py:940: ConvergenceWarning: lbfgs failed to converge (status=1):\n",
            "STOP: TOTAL NO. of ITERATIONS REACHED LIMIT.\n",
            "\n",
            "Increase the number of iterations (max_iter) or scale the data as shown in:\n",
            "    https://scikit-learn.org/stable/modules/preprocessing.html\n",
            "Please also refer to the documentation for alternative solver options:\n",
            "    https://scikit-learn.org/stable/modules/linear_model.html#logistic-regression\n",
            "  extra_warning_msg=_LOGISTIC_SOLVER_CONVERGENCE_MSG)\n"
          ],
          "name": "stderr"
        }
      ]
    },
    {
      "cell_type": "markdown",
      "metadata": {
        "id": "rY6H8ljUpiqf",
        "colab_type": "text"
      },
      "source": [
        "# CV score:"
      ]
    },
    {
      "cell_type": "code",
      "metadata": {
        "id": "HSdmashGkCMY",
        "colab_type": "code",
        "colab": {
          "base_uri": "https://localhost:8080/",
          "height": 85
        },
        "outputId": "71e5a3dd-4cc1-4d26-889f-a516a738c589"
      },
      "source": [
        "#Display CV score:\n",
        "display_scores(score)"
      ],
      "execution_count": 161,
      "outputs": [
        {
          "output_type": "stream",
          "text": [
            "Scores: [0.95837188 0.95636083 0.96360833 0.96052429 0.96052429 0.95821126\n",
            " 0.96345412]\n",
            "Mean: 0.960150713253048\n",
            "Standard deviation: 0.00251951459606346\n"
          ],
          "name": "stdout"
        }
      ]
    },
    {
      "cell_type": "markdown",
      "metadata": {
        "id": "17r5NNQMppVz",
        "colab_type": "text"
      },
      "source": [
        "## Now training model on our data and checking its accuracy on our test"
      ]
    },
    {
      "cell_type": "code",
      "metadata": {
        "id": "IyhzwOQI1Yyb",
        "colab_type": "code",
        "outputId": "ddb8e012-f708-4452-c55d-3c41052d8495",
        "colab": {
          "base_uri": "https://localhost:8080/",
          "height": 238
        }
      },
      "source": [
        "lg_reg_clf.fit(X_train, y_train)"
      ],
      "execution_count": 162,
      "outputs": [
        {
          "output_type": "stream",
          "text": [
            "/usr/local/lib/python3.6/dist-packages/sklearn/linear_model/_logistic.py:940: ConvergenceWarning: lbfgs failed to converge (status=1):\n",
            "STOP: TOTAL NO. of ITERATIONS REACHED LIMIT.\n",
            "\n",
            "Increase the number of iterations (max_iter) or scale the data as shown in:\n",
            "    https://scikit-learn.org/stable/modules/preprocessing.html\n",
            "Please also refer to the documentation for alternative solver options:\n",
            "    https://scikit-learn.org/stable/modules/linear_model.html#logistic-regression\n",
            "  extra_warning_msg=_LOGISTIC_SOLVER_CONVERGENCE_MSG)\n"
          ],
          "name": "stderr"
        },
        {
          "output_type": "execute_result",
          "data": {
            "text/plain": [
              "LogisticRegression(C=50, class_weight=None, dual=False, fit_intercept=True,\n",
              "                   intercept_scaling=1, l1_ratio=None, max_iter=100,\n",
              "                   multi_class='auto', n_jobs=None, penalty='l2',\n",
              "                   random_state=None, solver='lbfgs', tol=0.0001, verbose=0,\n",
              "                   warm_start=False)"
            ]
          },
          "metadata": {
            "tags": []
          },
          "execution_count": 162
        }
      ]
    },
    {
      "cell_type": "markdown",
      "metadata": {
        "id": "LlsID8Q4pyvO",
        "colab_type": "text"
      },
      "source": [
        "# Accuracy and confusion matrix:"
      ]
    },
    {
      "cell_type": "code",
      "metadata": {
        "id": "byPTaxIH1jlJ",
        "colab_type": "code",
        "outputId": "d5da8fe3-e0dd-4a24-ca1d-28d6fd1748cb",
        "colab": {
          "base_uri": "https://localhost:8080/",
          "height": 282
        }
      },
      "source": [
        "print(\"Accuracy   :\\t\",lg_reg_clf.score(X_test,y_test))\n",
        "sns.heatmap(confusion_matrix(lg_reg_clf.predict(X_test), y_test),annot=True)\n",
        "plt.show()"
      ],
      "execution_count": 163,
      "outputs": [
        {
          "output_type": "stream",
          "text": [
            "Accuracy   :\t 0.9601727024407437\n"
          ],
          "name": "stdout"
        },
        {
          "output_type": "display_data",
          "data": {
            "image/png": "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\n",
            "text/plain": [
              "<Figure size 432x288 with 2 Axes>"
            ]
          },
          "metadata": {
            "tags": [],
            "needs_background": "light"
          }
        }
      ]
    },
    {
      "cell_type": "code",
      "metadata": {
        "id": "zghhdALHfpiQ",
        "colab_type": "code",
        "colab": {}
      },
      "source": [
        "\n"
      ],
      "execution_count": 0,
      "outputs": []
    },
    {
      "cell_type": "markdown",
      "metadata": {
        "id": "zEVtwVuhqJQt",
        "colab_type": "text"
      },
      "source": [
        "# Saving model and vector "
      ]
    },Develop Apps for iOS and Android
Kotlin for Java Developers
JetBrains
COURSE
Free
Developing Android Apps with App Inventor
The Hong Kong University of Science and Technology
COURSE
Foundations of Objective-C App Development
University of California, Irvine
COURSE
Networking and Security in iOS Applications
University of California, Irvine
COURSE
Best Practices for iOS User Interface Design
University of California, Irvine
COURSE
Games, Sensors and Media
University of California, Irvine
COURSE
iOS Project: Transreality Game
University of California, Irvine
COURSE
Capstone MOOC for "Android App Development"
Vanderbilt University
COURSE
Java for Android
Vanderbilt University
COURSE
Engineering Maintainabl…
Vanderbilt University
COURSE
￼
Recently Launched Guided Projects
    {
      "cell_type": "code",
      "metadata": {
        "id": "E7E7EG4CfpxQ",
        "colab_type": "code",
        "colab": {}
      },
      "source": [
        "with open('model_','wb') as f:\n",
        "    pickle.dump(lg_reg_clf,f)\n",
        "    \n",
        "with open('vector_','wb') as f:\n",
        "    pickle.dump(vect,f)\n",
        "    "
      ],
      "execution_count": 0,
      "outputs": []
    },
    {
      "cell_type": "code",
      "metadata": {
        "id": "PAEm6IHxfp5P",
        "colab_type": "code",
        "colab": {}
      },
      "source": [
        ""
      ],
      "execution_count": 0,
      "outputs": []
    },
    {
      "cell_type": "code",
      "metadata": {
        "id": "Naa4g308fqDN",
        "colab_type": "code",
        "colab": {}
      },
      "source": [
        ""
      ],
      "execution_count": 0,
      "outputs": []
    }
  ]
}